{
 "cells": [
  {
   "cell_type": "code",
   "execution_count": 1,
   "id": "80d7ba4d",
   "metadata": {},
   "outputs": [],
   "source": [
    "# For creating a tictactoe game, we need to divide the process in various steps.\n",
    "# Step1-Displaying the board.\n",
    "# Step2-Taking user input for choosing the symbol either 'X' or 'O'.\n",
    "# Step3-Taking user input for selecting the position to enter the symbol at.\n",
    "# Step4-Checking if someone has won\n",
    "# Step5-Declaring the winner and asking the user if they want to play again."
   ]
  },
  {
   "cell_type": "code",
   "execution_count": 2,
   "id": "491c50c1",
   "metadata": {},
   "outputs": [],
   "source": [
    "#Step1:\n",
    "def display_board(board):\n",
    "\n",
    "    print(board[9]+\"|\"+board[8]+\"|\"+board[7])\n",
    "    print('-----')\n",
    "    print(board[6]+\"|\"+board[5]+\"|\"+board[4])\n",
    "    print('-----')\n",
    "    print(board[3]+\"|\"+board[2]+\"|\"+board[1])"
   ]
  },
  {
   "cell_type": "code",
   "execution_count": 3,
   "id": "868722c3",
   "metadata": {},
   "outputs": [],
   "source": [
    "board = '# X O X O X O X O X'.split()"
   ]
  },
  {
   "cell_type": "code",
   "execution_count": 4,
   "id": "c6ea1adc",
   "metadata": {},
   "outputs": [
    {
     "name": "stdout",
     "output_type": "stream",
     "text": [
      "X|O|X\n",
      "-----\n",
      "O|X|O\n",
      "-----\n",
      "X|O|X\n"
     ]
    }
   ],
   "source": [
    "display_board(board)"
   ]
  },
  {
   "cell_type": "code",
   "execution_count": 5,
   "id": "9f276b48",
   "metadata": {},
   "outputs": [],
   "source": [
    "#Step2:\n",
    "def player_input():\n",
    "    marker = ''\n",
    "    \n",
    "    while not (marker == 'X' or marker == 'O'):\n",
    "        marker = input('Player 1: Do you want to be X or O? ').upper()\n",
    "\n",
    "    if marker == 'X':\n",
    "        return ('X', 'O')\n",
    "    else:\n",
    "        return ('O', 'X')"
   ]
  },
  {
   "cell_type": "code",
   "execution_count": 6,
   "id": "82933088",
   "metadata": {},
   "outputs": [
    {
     "name": "stdout",
     "output_type": "stream",
     "text": [
      "Player 1: Do you want to be X or O? cx\n",
      "Player 1: Do you want to be X or O? x\n"
     ]
    },
    {
     "data": {
      "text/plain": [
       "('X', 'O')"
      ]
     },
     "execution_count": 6,
     "metadata": {},
     "output_type": "execute_result"
    }
   ],
   "source": [
    "player_input()"
   ]
  },
  {
   "cell_type": "code",
   "execution_count": 7,
   "id": "5b23adf8",
   "metadata": {},
   "outputs": [],
   "source": [
    "#step3\n",
    "def place_marker(board, marker, position):\n",
    "    board[position] = marker"
   ]
  },
  {
   "cell_type": "code",
   "execution_count": 8,
   "id": "c5a860cc",
   "metadata": {},
   "outputs": [
    {
     "name": "stdout",
     "output_type": "stream",
     "text": [
      "X|O|X\n",
      "-----\n",
      "O|X|N\n",
      "-----\n",
      "X|O|X\n"
     ]
    }
   ],
   "source": [
    "place_marker(board,'N',4)\n",
    "display_board(board)"
   ]
  },
  {
   "cell_type": "code",
   "execution_count": 9,
   "id": "8beb4d78",
   "metadata": {},
   "outputs": [],
   "source": [
    "#Step4\n",
    "def win_check(board,mark):\n",
    "    \n",
    "    return ((board[7] == mark and board[8] == mark and board[9] == mark) or # across the top\n",
    "    (board[4] == mark and board[5] == mark and board[6] == mark) or # across the middle\n",
    "    (board[1] == mark and board[2] == mark and board[3] == mark) or # across the bottom\n",
    "    (board[7] == mark and board[4] == mark and board[1] == mark) or # down the middle\n",
    "    (board[8] == mark and board[5] == mark and board[2] == mark) or # down the middle\n",
    "    (board[9] == mark and board[6] == mark and board[3] == mark) or # down the right side\n",
    "    (board[7] == mark and board[5] == mark and board[3] == mark) or # diagonal\n",
    "    (board[9] == mark and board[5] == mark and board[1] == mark)) # diagonal"
   ]
  },
  {
   "cell_type": "code",
   "execution_count": 10,
   "id": "970e00da",
   "metadata": {},
   "outputs": [
    {
     "data": {
      "text/plain": [
       "False"
      ]
     },
     "execution_count": 10,
     "metadata": {},
     "output_type": "execute_result"
    }
   ],
   "source": [
    "win_check(board,'x')"
   ]
  },
  {
   "cell_type": "code",
   "execution_count": 11,
   "id": "eb272f98",
   "metadata": {},
   "outputs": [],
   "source": [
    "#Step5\n",
    "import random\n",
    "\n",
    "def choose_first():\n",
    "    if random.randint(0, 1) == 0:\n",
    "        return 'Player 2'\n",
    "    else:\n",
    "        return 'Player 1'"
   ]
  },
  {
   "cell_type": "code",
   "execution_count": 12,
   "id": "01e5a243",
   "metadata": {},
   "outputs": [],
   "source": [
    "#Step 6\n",
    "def space_check(board, position):\n",
    "    \n",
    "    return board[position] == ' '"
   ]
  },
  {
   "cell_type": "code",
   "execution_count": 13,
   "id": "70de961d",
   "metadata": {},
   "outputs": [],
   "source": [
    "#Step7\n",
    "def full_board_check(board):\n",
    "    for i in range(1,10):\n",
    "        if space_check(board, i):\n",
    "            return False\n",
    "    return True"
   ]
  },
  {
   "cell_type": "code",
   "execution_count": 14,
   "id": "cfaf7278",
   "metadata": {},
   "outputs": [],
   "source": [
    "#Step8\n",
    "def player_choice(board):\n",
    "    position = 0\n",
    "    \n",
    "    while position not in [1,2,3,4,5,6,7,8,9] or not space_check(board, position):\n",
    "        position = int(input('Choose your next position: (1-9) '))\n",
    "        \n",
    "    return position"
   ]
  },
  {
   "cell_type": "code",
   "execution_count": 15,
   "id": "88ae33ef",
   "metadata": {},
   "outputs": [],
   "source": [
    "#Step9\n",
    "def replay():\n",
    "        choice = input('Do you want to play again?(Yes or No): ')\n",
    "        \n",
    "        return choice == 'Yes'"
   ]
  },
  {
   "cell_type": "code",
   "execution_count": null,
   "id": "7512f423",
   "metadata": {},
   "outputs": [
    {
     "name": "stdout",
     "output_type": "stream",
     "text": [
      "Welcome to Tic Tac Toe!\n",
      "Player 1: Do you want to be X or O? x\n",
      "Player 1 will go first.\n",
      "Are you ready to play? Enter y or n: y\n",
      " | | \n",
      "-----\n",
      " | | \n",
      "-----\n",
      " | | \n",
      "Choose your next position: (1-9) 3\n",
      " | | \n",
      "-----\n",
      " | | \n",
      "-----\n",
      "X| | \n",
      "Choose your next position: (1-9) 1\n",
      " | | \n",
      "-----\n",
      " | | \n",
      "-----\n",
      "X| |O\n",
      "Choose your next position: (1-9) 4\n",
      " | | \n",
      "-----\n",
      " | |X\n",
      "-----\n",
      "X| |O\n",
      "Choose your next position: (1-9) 5\n",
      " | | \n",
      "-----\n",
      " |O|X\n",
      "-----\n",
      "X| |O\n",
      "Choose your next position: (1-9) 3\n",
      "Choose your next position: (1-9) 6\n",
      " | | \n",
      "-----\n",
      "X|O|X\n",
      "-----\n",
      "X| |O\n",
      "Choose your next position: (1-9) 9\n",
      "O| | \n",
      "-----\n",
      "X|O|X\n",
      "-----\n",
      "X| |O\n",
      "Player 2 has won!\n"
     ]
    }
   ],
   "source": [
    "#Step10\n",
    "print('Welcome to Tic Tac Toe!')\n",
    "\n",
    "while True:\n",
    "    # Reset the board\n",
    "    theBoard = [' '] * 10\n",
    "    player1_marker, player2_marker = player_input()\n",
    "    turn = choose_first()\n",
    "    print(turn + ' will go first.')\n",
    "    \n",
    "    play_game = input('Are you ready to play? Enter y or n: ')\n",
    "    \n",
    "    if play_game.lower()[0] == 'y':\n",
    "        game_on = True\n",
    "    else:\n",
    "        game_on = False\n",
    "\n",
    "    while game_on:\n",
    "        if turn == 'Player 1':\n",
    "            # Player1's turn.\n",
    "            \n",
    "            display_board(theBoard)\n",
    "            position = player_choice(theBoard)\n",
    "            place_marker(theBoard, player1_marker, position)\n",
    "\n",
    "            if win_check(theBoard, player1_marker):\n",
    "                display_board(theBoard)\n",
    "                print('Congratulations! You have won the game!')\n",
    "                game_on = False\n",
    "            else:\n",
    "                if full_board_check(theBoard):\n",
    "                    display_board(theBoard)\n",
    "                    print('The game is a draw!')\n",
    "                    break\n",
    "                else:\n",
    "                    turn = 'Player 2'\n",
    "\n",
    "        else:\n",
    "            # Player2's turn.\n",
    "            \n",
    "            display_board(theBoard)\n",
    "            position = player_choice(theBoard)\n",
    "            place_marker(theBoard, player2_marker, position)\n",
    "\n",
    "            if win_check(theBoard, player2_marker):\n",
    "                display_board(theBoard)\n",
    "                print('Player 2 has won!')\n",
    "                game_on = False\n",
    "            else:\n",
    "                if full_board_check(theBoard):\n",
    "                    display_board(theBoard)\n",
    "                    print('The game is a draw!')\n",
    "                    break\n",
    "                else:\n",
    "                    turn = 'Player 1'\n",
    "\n",
    "    if not replay():\n",
    "        break"
   ]
  },
  {
   "cell_type": "code",
   "execution_count": null,
   "id": "559de5fc",
   "metadata": {},
   "outputs": [],
   "source": []
  }
 ],
 "metadata": {
  "kernelspec": {
   "display_name": "Python 3 (ipykernel)",
   "language": "python",
   "name": "python3"
  },
  "language_info": {
   "codemirror_mode": {
    "name": "ipython",
    "version": 3
   },
   "file_extension": ".py",
   "mimetype": "text/x-python",
   "name": "python",
   "nbconvert_exporter": "python",
   "pygments_lexer": "ipython3",
   "version": "3.9.13"
  }
 },
 "nbformat": 4,
 "nbformat_minor": 5
}
